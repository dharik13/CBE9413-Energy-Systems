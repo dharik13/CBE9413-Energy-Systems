{
 "cells": [
  {
   "cell_type": "markdown",
   "id": "e6017184",
   "metadata": {},
   "source": [
    "#### Reference Code\n",
    "\n",
    "This is a reference code provided to access wind data across different years"
   ]
  },
  {
   "cell_type": "code",
   "execution_count": null,
   "id": "164f0913",
   "metadata": {},
   "outputs": [],
   "source": [
    "import requests\n",
    "import pandas as pd\n",
    "import io\n",
    "import matplotlib.pyplot as plt\n",
    "import numpy as np\n",
    "from math import exp\n",
    "\n",
    "# 1. Define location, year and Turbine specification\n",
    "api_key =  # Replace this. API same as for PV modeling\n",
    "email = # Replace this\n",
    "full_name = # Replace this\n",
    "affiliation = 'NYU'\n",
    "reason = 'research'\n",
    "\n",
    "lat = ## set accordingly\n",
    "lon = ## set accordingly\n",
    "year = 2010"
   ]
  },
  {
   "cell_type": "markdown",
   "id": "de1f6d06",
   "metadata": {},
   "source": [
    "In the following snippet, we have provided reference values for Gamesa, you need to change it for the other two turbines. \n",
    "\n",
    "Note that the re_enetry margin and the temperature cutoff are assumed to be the same for all turbines."
   ]
  },
  {
   "cell_type": "code",
   "execution_count": null,
   "id": "8fbb8752",
   "metadata": {},
   "outputs": [],
   "source": [
    "# Turbine specifications\n",
    "\n",
    "rated_power_kw = 2500 # [kW] Gamesa G126/2500  \n",
    "turbine_loss=0.19 # [-] turbine efficiency loss  (19% loss)\n",
    "cut_out_speed=21 # [m/s]  cut out speed Gamesa G126/2500  \n",
    "reentry_margin = 5  # m/s Hysteresis effect \n",
    "Temperature_cutoff=243.15 # [K] -30 degree C\n",
    "\n",
    "\n",
    "\n",
    "# 2. Download data\n",
    "# --- Construct WKT (Well-Known Text) string\n",
    "wkt = f\"POINT({lon} {lat})\"\n",
    "\n",
    "# --- WIND Toolkit API endpoint\n",
    "url = 'https://developer.nrel.gov/api/wind-toolkit/v2/wind/wtk-download.csv'\n",
    "\n",
    "# --- Attributes at 100 m\n",
    "attributes = [\n",
    "    'windspeed_100m',\n",
    "    'relativehumidity_2m',\n",
    "    'temperature_100m',\n",
    "    'pressure_100m',\n",
    "]\n",
    "\n",
    "# --- Request parameters\n",
    "params = {\n",
    "    'api_key': api_key,\n",
    "    'wkt': wkt,\n",
    "    'names': str(year),\n",
    "    'interval': '60', #hourly data\n",
    "    'utc': 'true',\n",
    "    'leap_day': 'false',\n",
    "    'email': email,\n",
    "    'full_name': full_name,\n",
    "    'affiliation': affiliation,\n",
    "    'reason': reason,\n",
    "    'attributes': ','.join(attributes)\n",
    "}\n",
    "\n",
    "# --- Make the request\n",
    "print(\"Sending request...\")\n",
    "response = requests.get(url, params=params)\n",
    "\n",
    "if response.status_code != 200:\n",
    "    print(\"❌ Error downloading data:\")\n",
    "    print(response.text)\n",
    "else:\n",
    "    print(\"✅ Download successful, saving to CSV...\")\n",
    "\n",
    "    # Save raw CSV file\n",
    "    filename = f'wind_100m_{lat}_{lon}_{year}.csv'\n",
    "    with open(filename, 'w', encoding='utf-8') as f:\n",
    "        f.write(response.text)\n",
    "    print(f\"📁 Saved to {filename}\")"
   ]
  },
  {
   "cell_type": "markdown",
   "id": "c7bcd1a4",
   "metadata": {},
   "source": [
    "Once you have downloaded the code, we can see the values obtained in the CSV file. Note that the values obtained will be used to calculate the partial pressure of water using Tetens equation (refer to lecture notes), and eventually to calculatet he power producede each hour by the turbine."
   ]
  },
  {
   "cell_type": "code",
   "execution_count": null,
   "id": "40b5b77c",
   "metadata": {},
   "outputs": [],
   "source": [
    "# --- 3. Load CSV and preprocess\n",
    "df = pd.read_csv(filename, skiprows=1)\n",
    "\n",
    "# Rename columns for convenience\n",
    "df.columns = [c.strip() for c in df.columns]\n",
    "df.rename(columns={\n",
    "    'wind speed at 100m (m/s)': 'v_meas',\n",
    "    'relative humidity at 2m (%)': 'rh',\n",
    "    'air temperature at 100m (C)': 'T_C',\n",
    "    'air pressure at 100m (Pa)': 'p_meas'\n",
    "}, inplace=True)\n",
    "\n",
    "# --- 4. Calculate air density (n_meas)\n",
    "T_K = df['T_C'] + 273.15 # convert Celsius to Kelvin\n",
    "phi = df['rh'] / 100.0 \n",
    "p_meas = df['p_meas']\n",
    "\n",
    "# Tetens equation for vapor pressure\n",
    "p_water = phi * 610.78 * np.exp((17.27 * df['T_C']) / (df['T_C'] + 237.3))\n",
    "\n",
    "R_dry = 287.1 # [J/(kg K)]\n",
    "R_water = 461.5 # [J/(kg K)]\n",
    "\n",
    "n_meas = (p_meas - p_water) / (R_dry * T_K) + p_water / (R_water * T_K)\n",
    "\n",
    "# --- 5. Correct wind speed to standard air density\n",
    "v_meas = df['v_meas']\n",
    "n_std = 1.225\n",
    "v_std = v_meas * (n_meas / n_std) ** (1 / 3)"
   ]
  },
  {
   "cell_type": "markdown",
   "id": "7e3f262c",
   "metadata": {},
   "source": [
    "Note that once you have obtained the v_std values, you can start calculating the hourly power produced by each turbine\n",
    "Keep a note of using the following - \n",
    "1. Cut in speed\n",
    "2. Cut out speed\n",
    "3. Re entry Margin\n",
    "4. Temperature Cut off\n",
    "5. Turbine losses (set at 0.19. i.e the maximum capacity factor SHOULD NOT exceed beyond 0.81)\n",
    "\n",
    "Consider these factors while calculating the capacity factor of each turbine for each hour."
   ]
  }
 ],
 "metadata": {
  "kernelspec": {
   "display_name": "venv",
   "language": "python",
   "name": "python3"
  },
  "language_info": {
   "name": "python",
   "version": "3.13.7"
  }
 },
 "nbformat": 4,
 "nbformat_minor": 5
}
