{
 "cells": [
  {
   "cell_type": "markdown",
   "id": "7173b841",
   "metadata": {},
   "source": [
    "##  A complex model in JuMP: Biomass feedstock optimization\n",
    "The factory example above is a pretty simple problem. Useful for introducing the basic anatomy of a JuMP model, but hardly worth relying on algebraic programming to find the solution (as it can be obtained analytically without much trouble). So let's now turn to a more complex example...\n"
   ]
  },
  {
   "cell_type": "markdown",
   "id": "2f61bcc7",
   "metadata": {},
   "source": [
    "Assume you are the operator of a biorefinery with a fixed capacity $K$ and you are looking to optimize the types and quantity of feedstock you can purchase to maximize the operating profits for your facility over multiple time periods (e.g. months, years)\n",
    "\n",
    "Given the time-dependent availability of different biomass feedstocks and time-dependent price of fuel products as well as fixed biofuel production and biomass storage capacity, you need to decide the feed purchase decisions that will maximize your profit. \n",
    "\n",
    "Sounds like a good optimization problem!"
   ]
  },
  {
   "cell_type": "markdown",
   "id": "0e80bff5",
   "metadata": {},
   "source": [
    "### 1. Load data and define parameters\n",
    "\n",
    "Before we get started defining our model, we need define a set of **parameters** or constant values used in our optimization problem.\n",
    "\n",
    "Parameters that are constant over time:\n",
    "\n",
    "- Biofuel production capacity: $K = 20 \\times 10^5$ tonnes/years\n",
    "- Feedstock cost - dedicated energy crops, wood chips: $\\mathbf{c} = [30,50] $ $/tonne\n",
    "- Liquid fuel yield - dedicated energy crops, wood chips: $\\mathbf{e} = [12, 20] $ GJ/tonne\n",
    "- Available storage capacity - dedicated energy crops, wood chips: $\\mathbf{H} = [30, 15] $ tonnes\n",
    "- Variable cost of storage - dedicated energy crops, wood chips: $\\mathbf{s} = [1,1.5] $ $/tonne\n",
    "- Plant minimum energy production rate: $E^{min} = 200 $ GJ/year\n",
    "- Initial inventory for storage: $\\mathbf{\\bar{I}_0} = 0 $ tonnes\n",
    "\n",
    "\n",
    "We also need to load some time-dependent parameters, i.e whose values vary across the time periods (years) of interest for the problem, specifically, the supply of each feedstock in each period and the price of fuel in each period.\n",
    "\n"
   ]
  },
  {
   "cell_type": "code",
   "execution_count": 1,
   "id": "1b0b8921",
   "metadata": {},
   "outputs": [
    {
     "name": "stderr",
     "output_type": "stream",
     "text": [
      "\u001b[32m\u001b[1m  Activating\u001b[22m\u001b[39m project at `c:\\Users\\dm6004\\Dropbox (MIT)\\NYU_teaching\\EnergySystems_course\\Codes\\optimization_intro`\n"
     ]
    }
   ],
   "source": [
    "# Before you use a package in Julia for the first time, you must \"add\" (install) it. \n",
    "# We have included a project file that specifies the packages we need.\n",
    "# You can install the packages specified in the project file by following these commands\n",
    "# Make sure you have set the kernel to Julia in your Jupyter notebook\n",
    "import Pkg\n",
    "Pkg.activate(\".\")\n",
    "Pkg.instantiate()\n",
    "using Plots\n",
    "using DataFrames\n",
    "using HiGHS\n",
    "using JuMP\n",
    "using Plots\n"
   ]
  },
  {
   "cell_type": "markdown",
   "id": "f5b0b69b",
   "metadata": {},
   "source": [
    "We see that supply of dedicated energy crops is greater than supply of wood chips, which are the most expensive feedstock.  The yearly variations in biomass availability can be attributed to weather-driven sensitivity to crop yields.\n",
    "\n",
    "Lets now load the above data as well as time-dependent data"
   ]
  },
  {
   "cell_type": "code",
   "execution_count": 3,
   "id": "a45fe98f",
   "metadata": {},
   "outputs": [
    {
     "name": "stdout",
     "output_type": "stream",
     "text": [
      "Data loaded successfully\n",
      "Number of time steps: 3\n",
      "Supply data: \n",
      "[20 5; 10 12; 15 10]\n",
      "Fuel price data: \n",
      "[3.0, 2.6, 3.2]\n",
      "Feedstock cost data: \n",
      "[30, 50]\n",
      "Fuel yield data: \n",
      "[12, 20]\n",
      "Storage capacity data: \n",
      "[30, 15]\n",
      "Storage operating cost data: \n",
      "[1.0, 1.5]\n",
      "Facility capacity: 20\n",
      "Data loaded successfully\n"
     ]
    }
   ],
   "source": [
    "using DataFrames\n",
    "using CSV\n",
    "\n",
    "# Load input parameters \n",
    "inputs_constant = DataFrame(CSV.File(\"input_data.csv\"))\n",
    "\n",
    "pFeedCost = Array(inputs_constant[:,2])  # feedstock cost data as Array\n",
    "pFuelYield = Array(inputs_constant[:,3])  # fuel yield from each feedstock\n",
    "pStorageCap = Array(inputs_constant[:,4])  # storage capacity data in 10^5 tonnes\n",
    "pStorageCost = Array(inputs_constant[:,5])  # storage operating cost\n",
    "\n",
    "pFacilityCap = 20  # facility capacity in 10^5 tonnes per year\n",
    "pInitialStorage = [0, 0]  # initial storage inventory in 10^5 tonnes\n",
    "pFacilityMinInput = 0.4 * pFacilityCap  # minimum facility input in 10^5 tonnes per year\n",
    "# Load time series data\n",
    "inputs = DataFrame(CSV.File(\"input_data_time_series.csv\"))\n",
    "\n",
    "T = 1: length(inputs[:,1]) # Number of time steps\n",
    "pSupply = Matrix(inputs[:,2:3])  # biomass supply data as Array in 10^5 tonnes per year\n",
    "pFuelPrice = Array(inputs[:,4])  # fuel price data as Array in $/GJ\n",
    "C = 1:length(pSupply[1,:])  # set of biomass types\n",
    "\n",
    "println(\"Data loaded successfully\") \n",
    "println(\"Number of time steps: \", length(T))\n",
    "println(\"Supply data: \")\n",
    "println(pSupply)\n",
    "println(\"Fuel price data: \")\n",
    "println(pFuelPrice)\n",
    "println(\"Feedstock cost data: \")\n",
    "println(pFeedCost)\n",
    "println(\"Fuel yield data: \")\n",
    "println(pFuelYield)\n",
    "println(\"Storage capacity data: \")\n",
    "println(pStorageCap)\n",
    "println(\"Storage operating cost data: \")\n",
    "println(pStorageCost)\n",
    "println(\"Facility capacity: \", pFacilityCap)\n",
    "println(\"Data loaded successfully\")"
   ]
  },
  {
   "cell_type": "markdown",
   "id": "a1b74651",
   "metadata": {},
   "source": [
    "### 2. Define the model\n",
    "Now that we have our parameters set, let's define a new optimization model, a linear programming problem where we will use HIGHs as the optimizer\n"
   ]
  },
  {
   "cell_type": "code",
   "execution_count": 4,
   "id": "5ba0d9eb",
   "metadata": {},
   "outputs": [
    {
     "data": {
      "text/plain": [
       "A JuMP Model\n",
       "├ solver: HiGHS\n",
       "├ objective_sense: FEASIBILITY_SENSE\n",
       "├ num_variables: 0\n",
       "├ num_constraints: 0\n",
       "└ Names registered in the model: none"
      ]
     },
     "metadata": {},
     "output_type": "display_data"
    }
   ],
   "source": [
    "bio_model = Model(HiGHS.Optimizer)"
   ]
  },
  {
   "cell_type": "markdown",
   "id": "1a59107a",
   "metadata": {},
   "source": [
    "### 3. Model variables ###\n",
    "\n",
    "The next step would be to define the model decision variables that need to be optimized.\n",
    "\n",
    "- Consumption of biomass feed of type c in period t: $vCONS_{c,t} \\quad \\forall c \\in C, t \\in T$ \n",
    "- Purchase of biomass feed of type c in period t: $vPUR_{c,t} \\quad \\forall c \\in C, t \\in T$ \n",
    "\n",
    "- Inventory of biomass feed of type c in storage at the end of period t: $vSTOR_{c,t} \\quad \\forall c \\in C, t \\in T$ \n",
    "\n",
    "Where:\n",
    "$c \\in C$: Set of biomass feedstock types - dedicated energy crops, wood chips\n",
    "$t \\in T$: Set of time periods (years) - [1,2,3]\n",
    "\n",
    "This is our first example of creating an array of variables and **indexing across sets**. In practice, you'll frequently define arrays of variables and constraints that repeat across various sets or dimensions of your data (e.g. time periods, generators, regions, transmission lines). Note that variables can be indexed across multiple dimensions in N-dimensional containers (although here we will only index across the single dimension: time periods). [Read more on variable containers here](https://jump.dev/JuMP.jl/stable/manual/variables/#Variable-containers).\n",
    "\n",
    "Additionally, we will define bounds for each decision variable based on the parameters set previously. We'll set production rate upper bounds later, as these vary by time interval depending on the availability of biomass in each time period.\n",
    "\n",
    "Note: by convention, and to make it easy to spot a decision variable in future expressions, we'll use the convention that all decision variable names will be preceeded by symbol 'v'. (This is an optional convention, and you can feel free to adopt your own, but we recommend adopting a consistent convention for naming variables, constraints, expressions, parameters, etc.)\n",
    "\n",
    "\n",
    "\n",
    "\n"
   ]
  },
  {
   "cell_type": "code",
   "execution_count": 5,
   "id": "7ee7d55d",
   "metadata": {},
   "outputs": [
    {
     "name": "stdout",
     "output_type": "stream",
     "text": [
      "Feasibility\n",
      "Subject to\n",
      " vCONS[1,1] >= 0\n",
      " vCONS[2,1] >= 0\n",
      " vCONS[1,2] >= 0\n",
      " vCONS[2,2] >= 0\n",
      " vCONS[1,3] >= 0\n",
      " vCONS[2,3] >= 0\n",
      " vPUR[1,1] >= 0\n",
      " vPUR[2,1] >= 0\n",
      " vPUR[1,2] >= 0\n",
      " vPUR[2,2] >= 0\n",
      " vPUR[1,3] >= 0\n",
      " vPUR[2,3] >= 0\n",
      " vSTOR[1,1] >= 0\n",
      " vSTOR[2,1] >= 0\n",
      " vSTOR[1,2] >= 0\n",
      " vSTOR[2,2] >= 0\n",
      " vSTOR[1,3] >= 0\n",
      " vSTOR[2,3] >= 0\n"
     ]
    }
   ],
   "source": [
    "# Decision variables and bounds:\n",
    "\n",
    "@variables(bio_model, begin\n",
    "                          vCONS[c in C, t in T]      >= 0\n",
    "                          vPUR[c in C, t in T]      >= 0\n",
    "                          vSTOR[c in C, t in T]     >= 0\n",
    "        end)\n",
    "print(bio_model)"
   ]
  },
  {
   "cell_type": "markdown",
   "id": "36ba5f40",
   "metadata": {},
   "source": [
    "### 4. Define Expressions \n",
    "\n",
    "Now we define an expressions that calculate the revenues and operating cost for each time period over the problem time horizon.\n",
    "\n",
    "Note that by convention, and to distinguish expression names from decision variable names and constraint names, we will use the convention that all expression names take the format `eExpressionName`. (This is an optional convention, and you can feel free to adopt your own, but we recommend adopting a consistent convention for naming variables, constraints, expressions, parameters, etc.)\n",
    "\n",
    "1. We will define the operating revenues as:\n",
    "$$ \n",
    "eREV_t =\\sum_{c\\in C} {p_t \\times e_c \\times vCONS_{c,t}} \\quad \\forall t \\in T\n",
    "$$\n",
    "\n",
    "2. We will define the operating costs as:\n",
    "$$ \n",
    "eOPEX_t =\\sum_{c\\in C} {(c_c \\times vPUR_{c,t}+s_c \\times vSTOR_{c,t})} \\quad \\forall \\in T\n",
    "$$\n",
    "\n",
    "As with our variables, we will define this expression as an array indexed across the set of time periods `t` in the time series `T` and over the set of feedstocks `C`. Here we see our first example of the syntax for a sum expression.\n"
   ]
  },
  {
   "cell_type": "code",
   "execution_count": 6,
   "id": "19082377",
   "metadata": {},
   "outputs": [],
   "source": [
    "unregister(bio_model, :eREV)\n",
    "unregister(bio_model, :eOPEX)\n",
    "# Expressions defining system revenues and costs\n",
    "@expression(bio_model, eREV[t in T], \n",
    "    sum( (pFuelPrice[t] * pFuelYield[c] * vCONS[c,t]) for c in C) );\n",
    "\n",
    "@expression(bio_model, eOPEX[t in T], \n",
    "    sum( (pFeedCost[c] * vPUR[c,t] + pStorageCost[c] * vSTOR[c,t]) for c in C) );"
   ]
  },
  {
   "cell_type": "code",
   "execution_count": 7,
   "id": "10192ebc",
   "metadata": {},
   "outputs": [
    {
     "name": "stdout",
     "output_type": "stream",
     "text": [
      "eREV[1:end] = 1-dimensional DenseAxisArray{AffExpr,1,...} with index sets:\n",
      "    Dimension 1, [1, 2, 3]\n",
      "And data, a 3-element Vector{AffExpr}:\n",
      " 36 vCONS[1,1] + 60 vCONS[2,1]\n",
      " 31.200000000000003 vCONS[1,2] + 52 vCONS[2,2]\n",
      " 38.400000000000006 vCONS[1,3] + 64 vCONS[2,3]\n",
      "eOPEX[1:end] = 1-dimensional DenseAxisArray{AffExpr,1,...} with index sets:\n",
      "    Dimension 1, [1, 2, 3]\n",
      "And data, a 3-element Vector{AffExpr}:\n",
      " 30 vPUR[1,1] + vSTOR[1,1] + 50 vPUR[2,1] + 1.5 vSTOR[2,1]\n",
      " 30 vPUR[1,2] + vSTOR[1,2] + 50 vPUR[2,2] + 1.5 vSTOR[2,2]\n",
      " 30 vPUR[1,3] + vSTOR[1,3] + 50 vPUR[2,3] + 1.5 vSTOR[2,3]\n"
     ]
    }
   ],
   "source": [
    "\n",
    "# Show the Expressions\n",
    "@show(eREV[1:end]);\n",
    "@show(eOPEX[1:end]);"
   ]
  },
  {
   "cell_type": "markdown",
   "id": "0d01149b",
   "metadata": {},
   "source": [
    "Note that JuMP automatically interprets our expression definitions by converting the parameter references to constants and distributing terms into a [linear combination](https://en.wikipedia.org/wiki/Linear_combination) of coefficients and decision variabes, as per the displayed text above. So feel free to define these expressions however you'd like, and JuMP will take care of the math..."
   ]
  },
  {
   "cell_type": "markdown",
   "id": "d805c448",
   "metadata": {},
   "source": [
    "### 5. Constraints\n",
    "\n",
    "Now we define a set of constraints that define the feasible region for our decision variables, based on the engineering constraints of our biomass conversion and storage system.\n",
    "\n",
    "Note that by convention, and to distinguish constraint names from decision variable names and expression names, we will use the convention that all constraint names take the format `cConstraintName`. (This is an optional convention, and you can feel free to adopt your own, but we recommend adopting a consistent convention for naming variables, constraints, expressions, parameters, etc.)\n",
    "\n",
    "1. First, the biomass conversion capacity in each period is fixed as per the facility throughput capacity. \n",
    "\n",
    "$$\n",
    "\\sum_{c \\in C}vCONS_{c,t} \\leq  pFacilityCap \\quad \\forall t \\in T\n",
    "$$\n",
    "\n",
    "2. Similarly, the storage capacity for each biomass type is fixed.\n",
    "$$\n",
    "vSTOR_{c,t} \\leq  pStorageCap_c \\quad \\forall c \\in C, t \\in T\n",
    "$$\n"
   ]
  },
  {
   "cell_type": "code",
   "execution_count": 8,
   "id": "f314d80b",
   "metadata": {},
   "outputs": [
    {
     "data": {
      "text/plain": [
       "2-dimensional DenseAxisArray{ConstraintRef{Model, MathOptInterface.ConstraintIndex{MathOptInterface.ScalarAffineFunction{Float64}, MathOptInterface.LessThan{Float64}}, ScalarShape},2,...} with index sets:\n",
       "    Dimension 1, 1:2\n",
       "    Dimension 2, 1:3\n",
       "And data, a 2×3 Matrix{ConstraintRef{Model, MathOptInterface.ConstraintIndex{MathOptInterface.ScalarAffineFunction{Float64}, MathOptInterface.LessThan{Float64}}, ScalarShape}}:\n",
       " cStorageCap[1,1] : vSTOR[1,1] <= 30  …  cStorageCap[1,3] : vSTOR[1,3] <= 30\n",
       " cStorageCap[2,1] : vSTOR[2,1] <= 15     cStorageCap[2,3] : vSTOR[2,3] <= 15"
      ]
     },
     "metadata": {},
     "output_type": "display_data"
    }
   ],
   "source": [
    "@constraint(bio_model, cConvCap[t in T], \n",
    "    sum(vCONS[c,t] for c in C) <= pFacilityCap \n",
    "    )\n",
    "\n",
    "    @constraint(bio_model, cStorageCap[c in C, t in T], \n",
    "    vSTOR[c,t] <= pStorageCap[c]\n",
    "    )"
   ]
  },
  {
   "cell_type": "markdown",
   "id": "34841069",
   "metadata": {},
   "source": [
    "3. Storage inventory balance\n",
    "\n",
    " The inventory of biomass in storage at the **end** of time period `t` is constrainted to be equal to the inventory at the **end** of the prior time period `t-1` plus the amount of biomass purchased in period `t` minus the biomass consumed in period `t`\n",
    "\n",
    " $$\n",
    "vSTOR_{c,t} = vSTOR_{c,t-1} + vPUR_{c,t} -vCONS_{c,t} \\quad \\forall c \\in C, t \\in T\n",
    " $$ \n",
    "\n",
    " This is an example of a recursive or **inter-temporal** constraint: the inventory in period `t` depends on inventory in prior period `t-1`. So we have to define a special case for the first time period. They are multiple ways to do this:\n",
    " -  define the  starting inventory, at the beginning of period `1` as the simulation defined by a parameter earlier.  \n",
    " - define the starting inventory at the beginning of period `1` to be equal to the inventory at the end of period `3`. This represents a so-called **cyclic constraints** reflecting the condition that the system reaches the original state at the end of the simulation. We will use this more nuanced constraint in the model but you can test the sensitivity of this assumption on your own.\n",
    "\n",
    " In the implementation below, we do this in a single line using the symbol `?` within constraint that is short for an `if-else`  condition"
   ]
  },
  {
   "cell_type": "code",
   "execution_count": 9,
   "id": "4b2c2ea0",
   "metadata": {},
   "outputs": [],
   "source": [
    "unregister(bio_model, :cStorSoI)\n",
    "@constraint(bio_model, cStorSoI[c in C, t in T], \n",
    "    vSTOR[c,t] == (t == 1 ? vSTOR[c,T[end]] : vSTOR[c,t-1]) + vPUR[c,t] - vCONS[c,t]\n",
    "    );"
   ]
  },
  {
   "cell_type": "code",
   "execution_count": 10,
   "id": "4d39d074",
   "metadata": {},
   "outputs": [
    {
     "name": "stdout",
     "output_type": "stream",
     "text": [
      "cStorSoI[1, 1] = cStorSoI[1,1] : vCONS[1,1] - vPUR[1,1] + vSTOR[1,1] - vSTOR[1,3] == 0\n"
     ]
    },
    {
     "data": {
      "text/latex": [
       "$$ vCONS_{1,1} - vPUR_{1,1} + vSTOR_{1,1} - vSTOR_{1,3} = 0 $$"
      ],
      "text/plain": [
       "cStorSoI[1,1] : vCONS[1,1] - vPUR[1,1] + vSTOR[1,1] - vSTOR[1,3] == 0"
      ]
     },
     "metadata": {},
     "output_type": "display_data"
    }
   ],
   "source": [
    "@show(cStorSoI[1,1])"
   ]
  },
  {
   "cell_type": "markdown",
   "id": "84337403",
   "metadata": {},
   "source": [
    "4. We need to constrain the biomass consumption in each period to be less than or equal to the available supply. This can be written as:\n",
    "\n",
    "$$\n",
    "vCONS_{c,t} \\leq pSupply_{c,t} \\quad \\forall c \\in C, t \\in T\n",
    "$$\n",
    "\n",
    "5. The minimum energy constraint forces the plant to produce at least some amount in  each period, defined in this case in terms of input biomass processing capacity; This type of constraint may be necessary for practical reasons (e.g. cannot mothball production since it startup maybe expensive). This will however require using expensive feedstock or draining inventories."
   ]
  },
  {
   "cell_type": "code",
   "execution_count": 11,
   "id": "d91d4f1b",
   "metadata": {},
   "outputs": [
    {
     "data": {
      "text/plain": [
       "2-dimensional DenseAxisArray{ConstraintRef{Model, MathOptInterface.ConstraintIndex{MathOptInterface.ScalarAffineFunction{Float64}, MathOptInterface.LessThan{Float64}}, ScalarShape},2,...} with index sets:\n",
       "    Dimension 1, 1:2\n",
       "    Dimension 2, 1:3\n",
       "And data, a 2×3 Matrix{ConstraintRef{Model, MathOptInterface.ConstraintIndex{MathOptInterface.ScalarAffineFunction{Float64}, MathOptInterface.LessThan{Float64}}, ScalarShape}}:\n",
       " conSupply[1,1] : vPUR[1,1] <= 20  …  conSupply[1,3] : vPUR[1,3] <= 15\n",
       " conSupply[2,1] : vPUR[2,1] <= 5      conSupply[2,3] : vPUR[2,3] <= 10"
      ]
     },
     "metadata": {},
     "output_type": "display_data"
    }
   ],
   "source": [
    "@constraint(bio_model, conSupply[c in C, t in T], \n",
    "    vPUR[c,t] <= pSupply[t,c] );\n",
    "    "
   ]
  },
  {
   "cell_type": "code",
   "execution_count": 12,
   "id": "6522adf4",
   "metadata": {},
   "outputs": [],
   "source": [
    "@constraint(bio_model, conMinEnergy[t in T], \n",
    "    sum(vCONS[c,t] for c in C) >= pFacilityMinInput  # minimum energy output of 50 GJ\n",
    "    );"
   ]
  },
  {
   "cell_type": "markdown",
   "id": "345c35c4",
   "metadata": {},
   "source": [
    "### 6. Model objective function \n",
    "\n",
    "We can now define the objective function of the optimization model, which is the operating profit for the facility, defined as sum of revenues (first term) minus operating costs (2nd and 3rd terms)\n",
    "\n",
    "$$\n",
    "Max \\sum_{t\\in T} {eREV_t -eOPEX_t}\n",
    "$$\n",
    "\n",
    "NOTE: In the implementation we have scaled all the biomass flows and capacity variables in the units of $10^5$ tonnes so the units of the objective function of $10^5\\$$"
   ]
  },
  {
   "cell_type": "code",
   "execution_count": 13,
   "id": "1fa22940",
   "metadata": {},
   "outputs": [],
   "source": [
    "@objective(bio_model, Max, sum(eREV[t] - eOPEX[t] for t in T) );"
   ]
  },
  {
   "cell_type": "markdown",
   "id": "a1e6ec77",
   "metadata": {},
   "source": [
    "Let's take a look at our full model...\n"
   ]
  },
  {
   "cell_type": "code",
   "execution_count": 14,
   "id": "e4df7991",
   "metadata": {},
   "outputs": [
    {
     "name": "stdout",
     "output_type": "stream",
     "text": [
      "Max 36 vCONS[1,1] + 60 vCONS[2,1] - 30 vPUR[1,1] - vSTOR[1,1] - 50 vPUR[2,1] - 1.5 vSTOR[2,1] + 31.200000000000003 vCONS[1,2] + 52 vCONS[2,2] - 30 vPUR[1,2] - vSTOR[1,2] - 50 vPUR[2,2] - 1.5 vSTOR[2,2] + 38.400000000000006 vCONS[1,3] + 64 vCONS[2,3] - 30 vPUR[1,3] - vSTOR[1,3] - 50 vPUR[2,3] - 1.5 vSTOR[2,3]\n",
      "Subject to\n",
      " cStorSoI[1,1] : vCONS[1,1] - vPUR[1,1] + vSTOR[1,1] - vSTOR[1,3] == 0\n",
      " cStorSoI[2,1] : vCONS[2,1] - vPUR[2,1] + vSTOR[2,1] - vSTOR[2,3] == 0\n",
      " cStorSoI[1,2] : vCONS[1,2] - vPUR[1,2] - vSTOR[1,1] + vSTOR[1,2] == 0\n",
      " cStorSoI[2,2] : vCONS[2,2] - vPUR[2,2] - vSTOR[2,1] + vSTOR[2,2] == 0\n",
      " cStorSoI[1,3] : vCONS[1,3] - vPUR[1,3] - vSTOR[1,2] + vSTOR[1,3] == 0\n",
      " cStorSoI[2,3] : vCONS[2,3] - vPUR[2,3] - vSTOR[2,2] + vSTOR[2,3] == 0\n",
      " conMinEnergy[1] : vCONS[1,1] + vCONS[2,1] >= 8\n",
      " conMinEnergy[2] : vCONS[1,2] + vCONS[2,2] >= 8\n",
      " conMinEnergy[3] : vCONS[1,3] + vCONS[2,3] >= 8\n",
      " cConvCap[1] : vCONS[1,1] + vCONS[2,1] <= 20\n",
      " cConvCap[2] : vCONS[1,2] + vCONS[2,2] <= 20\n",
      " cConvCap[3] : vCONS[1,3] + vCONS[2,3] <= 20\n",
      " cStorageCap[1,1] : vSTOR[1,1] <= 30\n",
      " cStorageCap[2,1] : vSTOR[2,1] <= 15\n",
      " cStorageCap[1,2] : vSTOR[1,2] <= 30\n",
      " cStorageCap[2,2] : vSTOR[2,2] <= 15\n",
      " cStorageCap[1,3] : vSTOR[1,3] <= 30\n",
      " cStorageCap[2,3] : vSTOR[2,3] <= 15\n",
      " conSupply[1,1] : vPUR[1,1] <= 20\n",
      " conSupply[2,1] : vPUR[2,1] <= 5\n",
      " conSupply[1,2] : vPUR[1,2] <= 10\n",
      " conSupply[2,2] : vPUR[2,2] <= 12\n",
      " conSupply[1,3] : vPUR[1,3] <= 15\n",
      " conSupply[2,3] : vPUR[2,3] <= 10\n",
      " vCONS[1,1] >= 0\n",
      " vCONS[2,1] >= 0\n",
      " vCONS[1,2] >= 0\n",
      " vCONS[2,2] >= 0\n",
      " vCONS[1,3] >= 0\n",
      " vCONS[2,3] >= 0\n",
      " vPUR[1,1] >= 0\n",
      " vPUR[2,1] >= 0\n",
      " vPUR[1,2] >= 0\n",
      " vPUR[2,2] >= 0\n",
      " vPUR[1,3] >= 0\n",
      " vPUR[2,3] >= 0\n",
      " vSTOR[1,1] >= 0\n",
      " vSTOR[2,1] >= 0\n",
      " vSTOR[1,2] >= 0\n",
      " vSTOR[2,2] >= 0\n",
      " vSTOR[1,3] >= 0\n",
      " vSTOR[2,3] >= 0\n"
     ]
    }
   ],
   "source": [
    "print(bio_model)"
   ]
  },
  {
   "cell_type": "markdown",
   "id": "e4b1f022",
   "metadata": {},
   "source": [
    "\n",
    "A little more complicated, eh? Now you can see why it is useful to have an algebraic programming language to define more complex models and then hand over to a solver to do the hard math. \n",
    "\n",
    "Lets optimize this problem!"
   ]
  },
  {
   "cell_type": "code",
   "execution_count": 15,
   "id": "2986be8a",
   "metadata": {},
   "outputs": [
    {
     "name": "stdout",
     "output_type": "stream",
     "text": [
      "Running HiGHS 1.11.0 (git hash: 364c83a51e): Copyright (c) 2025 HiGHS under MIT licence terms\n",
      "LP   has 24 rows; 18 cols; 48 nonzeros\n",
      "Coefficient ranges:\n",
      "  Matrix [1e+00, 1e+00]\n",
      "  Cost   [1e+00, 6e+01]\n",
      "  Bound  [0e+00, 0e+00]\n",
      "  RHS    [5e+00, 3e+01]\n",
      "Presolving model\n",
      "12 rows, 18 cols, 36 nonzeros  0s\n",
      "Dependent equations search running on 6 equations with time limit of 1000.00s\n",
      "Dependent equations search removed 0 rows and 0 nonzeros in 0.00s (limit = 1000.00s)\n",
      "9 rows, 18 cols, 30 nonzeros  0s\n",
      "Presolve : Reductions: rows 9(-15); columns 18(-0); elements 30(-18)\n",
      "Solving the presolved LP\n",
      "Using EKK dual simplex solver - serial\n",
      "  Iteration        Objective     Infeasibilities num(sum)\n",
      "          0    -2.8158477575e+02 Ph1: 9(12); Du: 6(281.585) 0s\n",
      "         11    -4.2200000000e+02 Pr: 0(0) 0s\n",
      "Solving the original LP from the solution after postsolve\n",
      "Model status        : Optimal\n",
      "Simplex   iterations: 11\n",
      "Objective value     :  4.2200000000e+02\n",
      "P-D objective error :  0.0000000000e+00\n",
      "HiGHS run time      :          0.00\n"
     ]
    }
   ],
   "source": [
    "optimize!(bio_model)"
   ]
  },
  {
   "cell_type": "markdown",
   "id": "fb557286",
   "metadata": {},
   "source": [
    "### Results!\n",
    "\n",
    "We can see from the solver that the optimal operating profie is $4.22 \\times 10^2 \\times 10^5 \\$$ \n",
    "\n",
    "We can now access the optimal decision variables as well. As these are now arrays of variables, we must use the [vectorized syntax](https://docs.julialang.org/en/v1/manual/functions/#man-vectorized) version of JuMP's `value()` function: `value.(ArrayOfVariablesReference)` \n",
    "\n",
    "Similarly, for or arrays of expressions or constraints, use: `value.(ArrayOfExpressionsReference)` or `value.(ArrayOfConstraintsReference)`.\n",
    "\n",
    "For example, here's the optimal inventory of each biomass type across the three model years:"
   ]
  },
  {
   "cell_type": "code",
   "execution_count": 16,
   "id": "fdbafc00",
   "metadata": {},
   "outputs": [
    {
     "data": {
      "text/plain": [
       "2-dimensional DenseAxisArray{Float64,2,...} with index sets:\n",
       "    Dimension 1, 1:2\n",
       "    Dimension 2, 1:3\n",
       "And data, a 2×3 Matrix{Float64}:\n",
       " 20.0  10.0   0.0\n",
       "  5.0  12.0  10.0"
      ]
     },
     "metadata": {},
     "output_type": "display_data"
    }
   ],
   "source": [
    "value.(vPUR)"
   ]
  },
  {
   "cell_type": "code",
   "execution_count": 17,
   "id": "af63bb95",
   "metadata": {},
   "outputs": [
    {
     "data": {
      "text/plain": [
       "2-dimensional DenseAxisArray{Float64,2,...} with index sets:\n",
       "    Dimension 1, 1:2\n",
       "    Dimension 2, 1:3\n",
       "And data, a 2×3 Matrix{Float64}:\n",
       " 15.0  15.0   0.0\n",
       "  5.0   2.0  20.0"
      ]
     },
     "metadata": {},
     "output_type": "display_data"
    }
   ],
   "source": [
    "value.(vCONS)"
   ]
  },
  {
   "cell_type": "code",
   "execution_count": 18,
   "id": "ad7ce8ff",
   "metadata": {},
   "outputs": [
    {
     "data": {
      "text/plain": [
       "2-dimensional DenseAxisArray{Float64,2,...} with index sets:\n",
       "    Dimension 1, 1:2\n",
       "    Dimension 2, 1:3\n",
       "And data, a 2×3 Matrix{Float64}:\n",
       " 5.0   0.0  -0.0\n",
       " 0.0  10.0   0.0"
      ]
     },
     "metadata": {},
     "output_type": "display_data"
    }
   ],
   "source": [
    "value.(vSTOR)"
   ]
  },
  {
   "cell_type": "markdown",
   "id": "c06d6816",
   "metadata": {},
   "source": [
    "Note that `value.(Reference)` will return a JuMP [DenseAxisArray](https://jump.dev/JuMP.jl/dev/variables/#variable_jump_arrays-1) which is not a data format that is compatible with DataFrames. To access the numerical values for an array of JuMP variables or expressions in a DenseAxisArray, you use the syntax `value.(Reference).data`.\n",
    "\n",
    "We see that optimal solution involves buying more of the cheaper biomass (type 1) when its available, storing it,  and using it to meet the minimum input requirement when the expensive biomass (type 2) is the only one available.\n",
    "\n",
    "Below we compile the DataFrame and write it to .csv file. Note that we copy in the time intervals and price in each time period from the input time series as well for context.\n"
   ]
  },
  {
   "cell_type": "code",
   "execution_count": null,
   "id": "a3cf8781",
   "metadata": {},
   "outputs": [
    {
     "data": {
      "text/html": [
       "<div><div style = \"float: left;\"><span>6×5 DataFrame</span></div><div style = \"clear: both;\"></div></div><div class = \"data-frame\" style = \"overflow-x: scroll;\"><table class = \"data-frame\" style = \"margin-bottom: 6px;\"><thead><tr class = \"header\"><th class = \"rowNumber\" style = \"font-weight: bold; text-align: right;\">Row</th><th style = \"text-align: left;\">Time</th><th style = \"text-align: left;\">BiomassType</th><th style = \"text-align: left;\">Consumption</th><th style = \"text-align: left;\">Purchase</th><th style = \"text-align: left;\">Storage</th></tr><tr class = \"subheader headerLastRow\"><th class = \"rowNumber\" style = \"font-weight: bold; text-align: right;\"></th><th title = \"Int64\" style = \"text-align: left;\">Int64</th><th title = \"Int64\" style = \"text-align: left;\">Int64</th><th title = \"Float64\" style = \"text-align: left;\">Float64</th><th title = \"Float64\" style = \"text-align: left;\">Float64</th><th title = \"Float64\" style = \"text-align: left;\">Float64</th></tr></thead><tbody><tr><td class = \"rowNumber\" style = \"font-weight: bold; text-align: right;\">1</td><td style = \"text-align: right;\">1</td><td style = \"text-align: right;\">1</td><td style = \"text-align: right;\">15.0</td><td style = \"text-align: right;\">20.0</td><td style = \"text-align: right;\">5.0</td></tr><tr><td class = \"rowNumber\" style = \"font-weight: bold; text-align: right;\">2</td><td style = \"text-align: right;\">1</td><td style = \"text-align: right;\">2</td><td style = \"text-align: right;\">5.0</td><td style = \"text-align: right;\">5.0</td><td style = \"text-align: right;\">0.0</td></tr><tr><td class = \"rowNumber\" style = \"font-weight: bold; text-align: right;\">3</td><td style = \"text-align: right;\">2</td><td style = \"text-align: right;\">1</td><td style = \"text-align: right;\">15.0</td><td style = \"text-align: right;\">10.0</td><td style = \"text-align: right;\">0.0</td></tr><tr><td class = \"rowNumber\" style = \"font-weight: bold; text-align: right;\">4</td><td style = \"text-align: right;\">2</td><td style = \"text-align: right;\">2</td><td style = \"text-align: right;\">2.0</td><td style = \"text-align: right;\">12.0</td><td style = \"text-align: right;\">10.0</td></tr><tr><td class = \"rowNumber\" style = \"font-weight: bold; text-align: right;\">5</td><td style = \"text-align: right;\">3</td><td style = \"text-align: right;\">1</td><td style = \"text-align: right;\">0.0</td><td style = \"text-align: right;\">0.0</td><td style = \"text-align: right;\">-0.0</td></tr><tr><td class = \"rowNumber\" style = \"font-weight: bold; text-align: right;\">6</td><td style = \"text-align: right;\">3</td><td style = \"text-align: right;\">2</td><td style = \"text-align: right;\">20.0</td><td style = \"text-align: right;\">10.0</td><td style = \"text-align: right;\">0.0</td></tr></tbody></table></div>"
      ],
      "text/latex": [
       "\\begin{tabular}{r|ccccc}\n",
       "\t& Time & BiomassType & Consumption & Purchase & Storage\\\\\n",
       "\t\\hline\n",
       "\t& Int64 & Int64 & Float64 & Float64 & Float64\\\\\n",
       "\t\\hline\n",
       "\t1 & 1 & 1 & 15.0 & 20.0 & 5.0 \\\\\n",
       "\t2 & 1 & 2 & 5.0 & 5.0 & 0.0 \\\\\n",
       "\t3 & 2 & 1 & 15.0 & 10.0 & 0.0 \\\\\n",
       "\t4 & 2 & 2 & 2.0 & 12.0 & 10.0 \\\\\n",
       "\t5 & 3 & 1 & 0.0 & 0.0 & -0.0 \\\\\n",
       "\t6 & 3 & 2 & 20.0 & 10.0 & 0.0 \\\\\n",
       "\\end{tabular}\n"
      ],
      "text/plain": [
       "\u001b[1m6×5 DataFrame\u001b[0m\n",
       "\u001b[1m Row \u001b[0m│\u001b[1m Time  \u001b[0m\u001b[1m BiomassType \u001b[0m\u001b[1m Consumption \u001b[0m\u001b[1m Purchase \u001b[0m\u001b[1m Storage \u001b[0m\n",
       "     │\u001b[90m Int64 \u001b[0m\u001b[90m Int64       \u001b[0m\u001b[90m Float64     \u001b[0m\u001b[90m Float64  \u001b[0m\u001b[90m Float64 \u001b[0m\n",
       "─────┼────────────────────────────────────────────────────\n",
       "   1 │     1            1         15.0      20.0      5.0\n",
       "   2 │     1            2          5.0       5.0      0.0\n",
       "   3 │     2            1         15.0      10.0      0.0\n",
       "   4 │     2            2          2.0      12.0     10.0\n",
       "   5 │     3            1          0.0       0.0     -0.0\n",
       "   6 │     3            2         20.0      10.0      0.0"
      ]
     },
     "metadata": {},
     "output_type": "display_data"
    }
   ],
   "source": [
    "results = DataFrame(\n",
    "    Time = repeat(T, inner=length(C)),\n",
    "    BiomassType = repeat(C, outer=length(T)),\n",
    "    Consumption = vec(value.(vCONS).data),\n",
    "    Purchase = vec(value.(vPUR).data),\n",
    "    Storage = vec(value.(vSTOR).data)\n",
    ")\n"
   ]
  },
  {
   "cell_type": "code",
   "execution_count": 21,
   "id": "7a57c26e",
   "metadata": {},
   "outputs": [
    {
     "data": {
      "text/plain": [
       "\"results\\\\biomass_supply_optimization_results.csv\""
      ]
     },
     "metadata": {},
     "output_type": "display_data"
    }
   ],
   "source": [
    "# Let's create a folder for our results\n",
    "path = \"results\" # Replace this with a different path if you prefer to write to another location\n",
    "if !ispath(path) \n",
    "    mkdir(path)\n",
    "end\n",
    "write_path = joinpath(path, \"biomass_supply_optimization_results.csv\") \n",
    "CSV.write(write_path, results)"
   ]
  }
 ],
 "metadata": {
  "kernelspec": {
   "display_name": "Julia 1.10.8",
   "language": "julia",
   "name": "julia-1.10"
  },
  "language_info": {
   "file_extension": ".jl",
   "mimetype": "application/julia",
   "name": "julia",
   "version": "1.10.8"
  }
 },
 "nbformat": 4,
 "nbformat_minor": 5
}
